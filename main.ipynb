{
 "cells": [
  {
   "cell_type": "code",
   "execution_count": null,
   "metadata": {},
   "outputs": [],
   "source": [
    "###### IMPORTS ######\n",
    "import pandas as pd\n",
    "import nltk\n",
    "import ssl\n",
    "\n",
    "from nltk.tokenize import word_tokenize\n",
    "from collections import defaultdict\n",
    "import numpy as np\n",
    "from sklearn.model_selection import train_test_split\n",
    "\n",
    "try:\n",
    "    _create_unverified_https_context = ssl._create_unverified_context\n",
    "except AttributeError:\n",
    "    pass\n",
    "else:\n",
    "    ssl._create_default_https_context = _create_unverified_https_context\n",
    "\n",
    "#nltk downloads\n",
    "nltk.download('punkt')\n"
   ]
  },
  {
   "cell_type": "code",
   "execution_count": null,
   "metadata": {},
   "outputs": [],
   "source": [
    "#now i want to import the data from /data folder\n",
    "df = pd.read_csv('dataset/spam.csv')"
   ]
  },
  {
   "cell_type": "code",
   "execution_count": null,
   "metadata": {},
   "outputs": [],
   "source": [
    "#Now I am going to print out the first 5 rows of the data, and the shape.\n",
    "print(df.head())\n",
    "print(df.shape)\n",
    "print(df['Category'].value_counts())\n"
   ]
  },
  {
   "cell_type": "code",
   "execution_count": null,
   "metadata": {},
   "outputs": [],
   "source": [
    "###### CLEANING THE DATA ######\n",
    "\n",
    "#drop any nan values if there is\n",
    "df = df.dropna()\n",
    "\n",
    "#now I need to loop through each row in the message column and use NLTK to tokenise the words\n",
    "df['tokens'] = df['Message'].apply(nltk.word_tokenize)\n",
    "\n",
    "#now I need to go through each row in the tokens column, remove any punctuation and make all the words lowercase, remove punctuation\n",
    "df['tokens'] = df['tokens'].apply(lambda x: [word.lower() for word in x if word.isalpha()])\n"
   ]
  },
  {
   "cell_type": "code",
   "execution_count": null,
   "metadata": {},
   "outputs": [],
   "source": [
    "class NaiveBayesClassifierNoSmoothing:\n",
    "    def __init__(self) -> None:\n",
    "        #dictionary for prior probabilities\n",
    "        self.priors = defaultdict(float)\n",
    "        #dictionary for conditional probabilities\n",
    "        self.conditionals = defaultdict(lambda: defaultdict(float))\n",
    "        #vocab\n",
    "        self.vocab = set()\n",
    "        \n",
    "    def train_model(self, x, y):\n",
    "        #calculae the prior probabilities\n",
    "        class_counts = defaultdict(float)\n",
    "        for label in y:\n",
    "            class_counts[label] += 1\n",
    "\n",
    "        #use this to calculate the prior probabilities\n",
    "        for label in class_counts:\n",
    "            self.priors[label] = class_counts[label] / len(y)\n",
    "        \n",
    "        #create a dicionary to store the word counts given label\n",
    "        word_counts = defaultdict(lambda: defaultdict(float))\n",
    "\n",
    "        #calculate the conditional probs\n",
    "        for label in class_counts:\n",
    "            #get all rows with the same label\n",
    "            label_rows = x[y == label]\n",
    "            #flatten the list of lists\n",
    "            all_words = [word for row in label_rows for word in row]\n",
    "\n",
    "            for word in all_words:\n",
    "                word_counts[label][word] += 1\n",
    "                self.vocab.add(word)\n",
    "            \n",
    "            #calculate the conditional probabilities\n",
    "            for word in word_counts[label]:\n",
    "                self.conditionals[label][word] = word_counts[label][word] / len(all_words)\n",
    "        \n",
    "    def predict(self, x):\n",
    "        #create a dictionary to store the probabilities\n",
    "        probs = defaultdict(float)\n",
    "        for label in self.priors:\n",
    "            probs[label] = np.log(self.priors[label])\n",
    "            for word in x:\n",
    "                if word in self.vocab:\n",
    "                    probs[label] += np.log(self.conditionals[label][word])\n",
    "        \n",
    "        return max(probs, key=probs.get)        "
   ]
  },
  {
   "cell_type": "code",
   "execution_count": null,
   "metadata": {},
   "outputs": [],
   "source": [
    "#split the data into training and testing\n",
    "x_train, x_test, y_train, y_test = train_test_split(df['tokens'], df['Category'], test_size=0.2)\n",
    "\n",
    "#instantiate the model\n",
    "model = NaiveBayesClassifierNoSmoothing()\n",
    "\n",
    "#train the model\n",
    "model.train_model(x_train, y_train)\n",
    "\n",
    "#make predictions\n",
    "predictions = []\n",
    "for row in x_test:\n",
    "    predictions.append(model.predict(row))\n",
    "\n",
    "#calculate the accuracy\n",
    "correct = 0\n",
    "for i in range(len(predictions)):\n",
    "    if predictions[i] == y_test.iloc[i]:\n",
    "        correct += 1\n",
    "\n",
    "#calculate the accuracy\n",
    "accuracy = correct / len(predictions)\n",
    "\n",
    "print(accuracy)"
   ]
  }
 ],
 "metadata": {
  "kernelspec": {
   "display_name": "env",
   "language": "python",
   "name": "python3"
  },
  "language_info": {
   "codemirror_mode": {
    "name": "ipython",
    "version": 3
   },
   "file_extension": ".py",
   "mimetype": "text/x-python",
   "name": "python",
   "nbconvert_exporter": "python",
   "pygments_lexer": "ipython3",
   "version": "3.10.10"
  }
 },
 "nbformat": 4,
 "nbformat_minor": 2
}
