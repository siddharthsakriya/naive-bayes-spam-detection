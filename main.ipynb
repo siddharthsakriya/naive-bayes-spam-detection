{
 "cells": [
  {
   "cell_type": "code",
   "execution_count": 46,
   "metadata": {},
   "outputs": [
    {
     "name": "stderr",
     "output_type": "stream",
     "text": [
      "[nltk_data] Downloading package punkt to\n",
      "[nltk_data]     /Users/siddharthsakriya/nltk_data...\n",
      "[nltk_data]   Package punkt is already up-to-date!\n"
     ]
    },
    {
     "data": {
      "text/plain": [
       "True"
      ]
     },
     "execution_count": 46,
     "metadata": {},
     "output_type": "execute_result"
    }
   ],
   "source": [
    "###### IMPORTS ######\n",
    "import pandas as pd\n",
    "import nltk\n",
    "import ssl\n",
    "\n",
    "from nltk.tokenize import word_tokenize\n",
    "from collections import defaultdict\n",
    "import numpy as np\n",
    "from sklearn.model_selection import train_test_split\n",
    "\n",
    "try:\n",
    "    _create_unverified_https_context = ssl._create_unverified_context\n",
    "except AttributeError:\n",
    "    pass\n",
    "else:\n",
    "    ssl._create_default_https_context = _create_unverified_https_context\n",
    "\n",
    "#nltk downloads\n",
    "nltk.download('punkt')\n"
   ]
  },
  {
   "cell_type": "code",
   "execution_count": 47,
   "metadata": {},
   "outputs": [],
   "source": [
    "#now i want to import the data from /data folder\n",
    "df = pd.read_csv('dataset/spam.csv')"
   ]
  },
  {
   "cell_type": "code",
   "execution_count": 48,
   "metadata": {},
   "outputs": [
    {
     "name": "stdout",
     "output_type": "stream",
     "text": [
      "  Category                                            Message\n",
      "0      ham  Go until jurong point, crazy.. Available only ...\n",
      "1      ham                      Ok lar... Joking wif u oni...\n",
      "2     spam  Free entry in 2 a wkly comp to win FA Cup fina...\n",
      "3      ham  U dun say so early hor... U c already then say...\n",
      "4      ham  Nah I don't think he goes to usf, he lives aro...\n",
      "(5572, 2)\n",
      "Category\n",
      "ham     4825\n",
      "spam     747\n",
      "Name: count, dtype: int64\n"
     ]
    }
   ],
   "source": [
    "#Now I am going to print out the first 5 rows of the data, and the shape.\n",
    "print(df.head())\n",
    "print(df.shape)\n",
    "print(df['Category'].value_counts())\n"
   ]
  },
  {
   "cell_type": "code",
   "execution_count": 49,
   "metadata": {},
   "outputs": [],
   "source": [
    "###### CLEANING THE DATA ######\n",
    "\n",
    "#drop any nan values if there is\n",
    "df = df.dropna()\n",
    "\n",
    "#now I need to loop through each row in the message column and use NLTK to tokenise the words\n",
    "df['tokens'] = df['Message'].apply(nltk.word_tokenize)\n",
    "\n",
    "#now I need to go through each row in the tokens column, remove any punctuation and make all the words lowercase, remove punctuation\n",
    "df['tokens'] = df['tokens'].apply(lambda x: [word.lower() for word in x if word.isalpha()])"
   ]
  },
  {
   "cell_type": "code",
   "execution_count": null,
   "metadata": {},
   "outputs": [],
   "source": [
    "class NaiveBayesClassifier:\n",
    "    def __init__(self) -> None:\n",
    "        #dictionary for prior probabilities\n",
    "        self.priors = defaultdict(float)\n",
    "        #dictionary for conditional probabilities\n",
    "        self.conditionals = defaultdict(lambda: defaultdict(float))\n",
    "        #vocab\n",
    "        self.vocab = set()\n",
    "        \n",
    "    def train_model(self, x, y):\n",
    "        #calculae the prior probabilities\n",
    "        class_counts = defaultdict(float)\n",
    "        for label in y:\n",
    "            class_counts[label] += 1\n",
    "\n",
    "        #use this to calculate the prior probabilities\n",
    "        for label in class_counts:\n",
    "            self.priors[label] = class_counts[label] / len(y)\n",
    "        \n",
    "        #calculate the conditional probs\n",
    "        for label in class_counts:\n",
    "            #get all rows with the same label\n",
    "            label_rows = x[y == label]\n",
    "            #flatten the list of lists\n",
    "            all_words = [word for row in label_rows for word in row]\n",
    "            word_counts = defaultdict(float)\n",
    "            \n",
    "\n",
    "         \n",
    "        \n",
    "        \n",
    "        \n",
    "\n",
    "        "
   ]
  }
 ],
 "metadata": {
  "kernelspec": {
   "display_name": "env",
   "language": "python",
   "name": "python3"
  },
  "language_info": {
   "codemirror_mode": {
    "name": "ipython",
    "version": 3
   },
   "file_extension": ".py",
   "mimetype": "text/x-python",
   "name": "python",
   "nbconvert_exporter": "python",
   "pygments_lexer": "ipython3",
   "version": "3.10.10"
  }
 },
 "nbformat": 4,
 "nbformat_minor": 2
}
